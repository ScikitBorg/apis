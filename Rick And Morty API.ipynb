{
 "cells": [
  {
   "cell_type": "code",
   "execution_count": 1,
   "metadata": {},
   "outputs": [],
   "source": [
    "#Import Necessary Packages\n",
    "import requests\n",
    "import pandas as pd"
   ]
  },
  {
   "cell_type": "code",
   "execution_count": 2,
   "metadata": {},
   "outputs": [],
   "source": [
    "#Pull all Characters into Df_Charactersrm\n",
    "df_Charactersrm = pd.DataFrame()\n",
    "for page in range(1,35):\n",
    "    url='https://rickandmortyapi.com/api/character/?page=%s'%page\n",
    "    response = requests.get(url)\n",
    "    json_string = response.json()\n",
    "    dftempchar = pd.json_normalize(json_string, record_path =['results'])\n",
    "    df_Charactersrm = pd.concat([df_Charactersrm, dftempchar])\n",
    "    \n"
   ]
  },
  {
   "cell_type": "code",
   "execution_count": 3,
   "metadata": {},
   "outputs": [],
   "source": [
    "#Pull all Locations into Df_Locationsrm\n",
    "df_Locationsrm = pd.DataFrame()\n",
    "for page in range(1,7):\n",
    "    url='https://rickandmortyapi.com/api/location/?page=%s'%page\n",
    "    response = requests.get(url)\n",
    "    json_string = response.json()\n",
    "    dftemploc = pd.json_normalize(json_string, record_path =['results'])\n",
    "    df_Locationsrm = pd.concat([df_Locationsrm, dftemploc])"
   ]
  },
  {
   "cell_type": "code",
   "execution_count": 4,
   "metadata": {},
   "outputs": [],
   "source": [
    "#Pull all Episodes into Df_Episodesrm\n",
    "df_Episodesrm = pd.DataFrame()\n",
    "for page in range(1,4):\n",
    "    url='https://rickandmortyapi.com/api/episode/?page=%s'%page\n",
    "    response = requests.get(url)\n",
    "    json_string = response.json()\n",
    "    dftempep = pd.json_normalize(json_string, record_path =['results'])\n",
    "    df_Episodesrm = pd.concat([df_Episodesrm, dftempep])"
   ]
  },
  {
   "cell_type": "code",
   "execution_count": 5,
   "metadata": {},
   "outputs": [
    {
     "name": "stdout",
     "output_type": "stream",
     "text": [
      "(671, 14)\n",
      "(108, 7)\n",
      "(41, 7)\n"
     ]
    }
   ],
   "source": [
    "#Confirm Everything is There\n",
    "print(df_Charactersrm.shape)\n",
    "print(df_Locationsrm.shape)\n",
    "print(df_Episodesrm.shape)"
   ]
  },
  {
   "cell_type": "code",
   "execution_count": 6,
   "metadata": {},
   "outputs": [],
   "source": [
    "#Now we will want to duplicate rows in the df_Charactersrm so that we have 1 row for each episode the character appeared in\n",
    "df_Charactersrm =df_Charactersrm.explode('episode').reset_index(drop=True)\n",
    "cols = list(df_Charactersrm.columns)\n",
    "cols.append(cols.pop(cols.index('name')))\n",
    "df_Charactersrm =df_Charactersrm[cols]"
   ]
  },
  {
   "cell_type": "code",
   "execution_count": 7,
   "metadata": {},
   "outputs": [
    {
     "data": {
      "text/plain": [
       "(1038, 14)"
      ]
     },
     "execution_count": 7,
     "metadata": {},
     "output_type": "execute_result"
    }
   ],
   "source": [
    "df_Charactersrm.shape"
   ]
  },
  {
   "cell_type": "code",
   "execution_count": 8,
   "metadata": {
    "scrolled": true
   },
   "outputs": [],
   "source": [
    "#Lets Do Some DF Cleanup pre Join\n",
    "\n",
    "#Drop Unecessary Columns\n",
    "df_Charactersrm = df_Charactersrm.drop(columns=['created','location.url','url','origin.url'])\n",
    "df_Locationsrm = df_Locationsrm.drop(columns=['id','created','residents','url'])\n",
    "df_Episodesrm = df_Episodesrm.drop(columns=['id','created','characters'])\n",
    "\n",
    "#Rename Columns\n",
    "df_Charactersrm = df_Charactersrm.rename(columns={\"status\":\"Character_Status\",\"species\":\"Character_Species\",\"type\":\"Character_type\",\"image\":\"Character_image\",\"episode\":\"Episode_URL\",\"origin.name\":\"Origin_Location_Name\",\"location.name\":\"Current_Location_Name\",\"name\":\"Character_Name\"})\n",
    "df_Episodesrm = df_Episodesrm.rename(columns={\"url\":\"Episode_URL\",\"name\":\"episode_name\",\"episode\":\"episode_Number\"})\n",
    "#Rename Columns and Make 2 dfs for Location one for each join\n",
    "df_Locationsrm_Current = df_Locationsrm.rename(columns={\"name\":\"Current_Location_Name\",\"type\":\"Current_Location_type\",\"dimension\":\"Current Dimension\"})\n",
    "df_Locationsrm_Origin = df_Locationsrm.rename(columns={\"name\":\"Origin_Location_Name\",\"type\":\"Origin_Location_type\",\"dimension\":\"Origin Dimension\"})\n"
   ]
  },
  {
   "cell_type": "code",
   "execution_count": 9,
   "metadata": {},
   "outputs": [
    {
     "name": "stdout",
     "output_type": "stream",
     "text": [
      "(1038, 13)\n",
      "(1038, 15)\n",
      "(1038, 17)\n"
     ]
    }
   ],
   "source": [
    "#Join df_Charactersrm with df_Episodesrm to get episode information for each character\n",
    "df_rm = df_Charactersrm.merge(df_Episodesrm, on='Episode_URL', how='left')\n",
    "print(df_rm.shape)\n",
    "#Join df_rm with df_Locationsrm_Current to get current location information\n",
    "df_rm = df_rm.merge(df_Locationsrm_Current, on='Current_Location_Name', how='left')\n",
    "print(df_rm.shape)\n",
    "#Join df_rm with df_Locationsrm_Origin to get Origin location information\n",
    "df_rm = df_rm.merge(df_Locationsrm_Origin, on='Origin_Location_Name', how='left')\n",
    "print(df_rm.shape)"
   ]
  },
  {
   "cell_type": "code",
   "execution_count": 10,
   "metadata": {},
   "outputs": [],
   "source": [
    "df_rm =df_rm.drop(columns=['Episode_URL'])"
   ]
  },
  {
   "cell_type": "code",
   "execution_count": 11,
   "metadata": {},
   "outputs": [
    {
     "data": {
      "text/plain": [
       "(1038, 10)"
      ]
     },
     "execution_count": 11,
     "metadata": {},
     "output_type": "execute_result"
    }
   ],
   "source": [
    "df_Charactersrm.shape"
   ]
  },
  {
   "cell_type": "code",
   "execution_count": 12,
   "metadata": {},
   "outputs": [],
   "source": [
    "df_rm.to_csv('Rick_And_Morty_Combined.csv')"
   ]
  },
  {
   "cell_type": "code",
   "execution_count": 13,
   "metadata": {},
   "outputs": [
    {
     "data": {
      "text/plain": [
       "(1038, 16)"
      ]
     },
     "execution_count": 13,
     "metadata": {},
     "output_type": "execute_result"
    }
   ],
   "source": [
    "df_rm.shape"
   ]
  },
  {
   "cell_type": "code",
   "execution_count": null,
   "metadata": {},
   "outputs": [],
   "source": []
  }
 ],
 "metadata": {
  "kernelspec": {
   "display_name": "Python 3",
   "language": "python",
   "name": "python3"
  },
  "language_info": {
   "codemirror_mode": {
    "name": "ipython",
    "version": 3
   },
   "file_extension": ".py",
   "mimetype": "text/x-python",
   "name": "python",
   "nbconvert_exporter": "python",
   "pygments_lexer": "ipython3",
   "version": "3.8.5"
  }
 },
 "nbformat": 4,
 "nbformat_minor": 4
}
